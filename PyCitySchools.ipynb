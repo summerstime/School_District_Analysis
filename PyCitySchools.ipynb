{
 "cells": [
  {
   "cell_type": "code",
   "execution_count": 1,
   "metadata": {},
   "outputs": [],
   "source": [
    "# Add the Pandas dependency.\n",
    "import pandas as pd"
   ]
  },
  {
   "cell_type": "code",
   "execution_count": 4,
   "metadata": {},
   "outputs": [],
   "source": [
    "# Files to load\n",
    "school_data_to_load = \"Resources/schools_complete.csv\"\n",
    "student_data_to_load = \"Resources/students_complete.csv\""
   ]
  },
  {
   "cell_type": "code",
   "execution_count": 10,
   "metadata": {},
   "outputs": [
    {
     "data": {
      "text/plain": [
       "(   School ID            school_name      type  size   budget\n",
       " 0          0      Huang High School  District  2917  1910635\n",
       " 1          1   Figueroa High School  District  2949  1884411\n",
       " 2          2    Shelton High School   Charter  1761  1056600\n",
       " 3          3  Hernandez High School  District  4635  3022020\n",
       " 4          4    Griffin High School   Charter  1468   917500,\n",
       "     School ID            school_name      type  size   budget\n",
       " 10         10     Wright High School   Charter  1800  1049400\n",
       " 11         11  Rodriguez High School  District  3999  2547363\n",
       " 12         12    Johnson High School  District  4761  3094650\n",
       " 13         13       Ford High School  District  2739  1763916\n",
       " 14         14     Thomas High School   Charter  1635  1043130)"
      ]
     },
     "execution_count": 10,
     "metadata": {},
     "output_type": "execute_result"
    }
   ],
   "source": [
    "# Read the school data file and store it in a Pandas DataFrame.\n",
    "school_data_df = pd.read_csv(school_data_to_load)\n",
    "school_data_df.head(5),school_data_df.tail(5)"
   ]
  },
  {
   "cell_type": "code",
   "execution_count": 12,
   "metadata": {},
   "outputs": [
    {
     "data": {
      "text/plain": [
       "(   Student ID       student_name gender grade        school_name  \\\n",
       " 0           0       Paul Bradley      M   9th  Huang High School   \n",
       " 1           1       Victor Smith      M  12th  Huang High School   \n",
       " 2           2    Kevin Rodriguez      M  12th  Huang High School   \n",
       " 3           3  Dr. Richard Scott      M  12th  Huang High School   \n",
       " 4           4         Bonnie Ray      F   9th  Huang High School   \n",
       " \n",
       "    reading_score  math_score  \n",
       " 0             66          79  \n",
       " 1             94          61  \n",
       " 2             90          60  \n",
       " 3             67          58  \n",
       " 4             97          84  ,\n",
       "        Student ID     student_name gender grade         school_name  \\\n",
       " 39165       39165     Donna Howard      F  12th  Thomas High School   \n",
       " 39166       39166        Dawn Bell      F  10th  Thomas High School   \n",
       " 39167       39167   Rebecca Tanner      F   9th  Thomas High School   \n",
       " 39168       39168     Desiree Kidd      F  10th  Thomas High School   \n",
       " 39169       39169  Carolyn Jackson      F  11th  Thomas High School   \n",
       " \n",
       "        reading_score  math_score  \n",
       " 39165             99          90  \n",
       " 39166             95          70  \n",
       " 39167             73          84  \n",
       " 39168             99          90  \n",
       " 39169             95          75  )"
      ]
     },
     "execution_count": 12,
     "metadata": {},
     "output_type": "execute_result"
    }
   ],
   "source": [
    "# Read the student data file and store it in a Pandas DataFrame.\n",
    "student_data_df = pd.read_csv(student_data_to_load)\n",
    "student_data_df.head(), student_data_df.tail()"
   ]
  }
 ],
 "metadata": {
  "kernelspec": {
   "display_name": "PythonData",
   "language": "python",
   "name": "pythondata"
  },
  "language_info": {
   "codemirror_mode": {
    "name": "ipython",
    "version": 3
   },
   "file_extension": ".py",
   "mimetype": "text/x-python",
   "name": "python",
   "nbconvert_exporter": "python",
   "pygments_lexer": "ipython3",
   "version": "3.7.9"
  }
 },
 "nbformat": 4,
 "nbformat_minor": 4
}
